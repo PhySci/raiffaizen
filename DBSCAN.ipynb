{
 "cells": [
  {
   "cell_type": "code",
   "execution_count": 1,
   "metadata": {
    "collapsed": true
   },
   "outputs": [],
   "source": [
    "import pandas as pd\n",
    "import folium\n",
    "import matplotlib.pyplot as plt\n",
    "%matplotlib inline\n",
    "\n",
    "import json\n",
    "import numpy as np\n",
    "\n",
    "from collections import Counter\n",
    "from folium.plugins import MarkerCluster\n",
    "from sklearn.cluster import DBSCAN\n",
    "\n",
    "from utils import * "
   ]
  },
  {
   "cell_type": "code",
   "execution_count": 2,
   "metadata": {
    "collapsed": true
   },
   "outputs": [],
   "source": [
    "# develop mode\n",
    "%load_ext autoreload\n",
    "%autoreload 2"
   ]
  },
  {
   "cell_type": "code",
   "execution_count": 3,
   "metadata": {
    "collapsed": true
   },
   "outputs": [],
   "source": [
    "# Moscow coordinates\n",
    "MOW = [55.75222, 37.61556]"
   ]
  },
  {
   "cell_type": "code",
   "execution_count": 4,
   "metadata": {
    "collapsed": true
   },
   "outputs": [],
   "source": [
    "# load mcc codes\n",
    "mcc_codes = pd.read_csv('./data/mcc_codes.csv', index_col='mcc')"
   ]
  },
  {
   "cell_type": "code",
   "execution_count": null,
   "metadata": {},
   "outputs": [
    {
     "name": "stderr",
     "output_type": "stream",
     "text": [
      "C:\\Anaconda3\\work\\raiffazen\\env\\lib\\site-packages\\IPython\\core\\interactiveshell.py:2728: DtypeWarning: Columns (1,11) have mixed types. Specify dtype option on import or set low_memory=False.\n",
      "  interactivity=interactivity, compiler=compiler, result=result)\n"
     ]
    }
   ],
   "source": [
    "# load, clean and group train data\n",
    "train_df = pd.read_csv('./data/train_set.csv')\n",
    "train_df.rename(columns={'pos_adress_lat':'pos_address_lat', 'pos_adress_lon':'pos_address_lon'}, inplace= True)\n",
    "train_df.loc[:,'mcc'] = clean_mcc(train_df)\n",
    "train_gr = train_df.groupby('customer_id')\n",
    "train_df.head()"
   ]
  },
  {
   "cell_type": "code",
   "execution_count": null,
   "metadata": {},
   "outputs": [],
   "source": [
    "test_df = pd.read_csv('./data/test_set.csv')\n",
    "test_df.loc[:,'mcc'] = clean_mcc(test_df)\n",
    "test_gr = test_df.groupby('customer_id')"
   ]
  },
  {
   "cell_type": "code",
   "execution_count": null,
   "metadata": {
    "collapsed": true
   },
   "outputs": [],
   "source": [
    "mcc_code = 5411"
   ]
  },
  {
   "cell_type": "code",
   "execution_count": null,
   "metadata": {
    "collapsed": true
   },
   "outputs": [],
   "source": [
    "# test DBSCAN\n",
    "core_samples_mask = np.zeros_like(dbs.labels_, dtype=bool)\n",
    "core_samples_mask[dbs.core_sample_indices_] = True\n",
    "\n",
    "\n",
    "unique_labels = set(labels)\n",
    "colors = [plt.cm.Spectral(each) for each in np.linspace(0, 1, len(unique_labels))]\n",
    "for k, col in zip(unique_labels, colors):\n",
    "    if k == -1:\n",
    "        # Black used for noise.\n",
    "        col = [0, 0, 0, 1]\n",
    "\n",
    "    class_member_mask = (labels == k)\n",
    "\n",
    "    xy = position[class_member_mask & core_samples_mask]\n",
    "    plt.plot(xy[:, 0], xy[:, 1], 'o', markerfacecolor=tuple(col),\n",
    "             markeredgecolor='k', markersize=14)\n",
    "\n",
    "    xy = position[class_member_mask & ~core_samples_mask]\n",
    "    plt.plot(xy[:, 0], xy[:, 1], 'o', markerfacecolor=tuple(col),\n",
    "             markeredgecolor='k', markersize=6)\n",
    "\n",
    "#plt.title('Estimated number of clusters: %d' % n_clusters_)\n",
    "#plt.show()"
   ]
  },
  {
   "cell_type": "code",
   "execution_count": null,
   "metadata": {
    "collapsed": true
   },
   "outputs": [],
   "source": [
    "def dbscan_clust(position, home_pos = np.nan, dbscan_params = {'leaf_size':5, 'eps': 0.02, 'n_jobs': 5}):\n",
    "    dbs = DBSCAN(**dbscan_params)\n",
    "    dbs.fit(position)\n",
    "    labels = dbs.labels_\n",
    "\n",
    "    clust_size = 0\n",
    "    best_clust = [0, 0]\n",
    "    clust_size = np.NAN\n",
    "    d = np.Inf\n",
    "    \n",
    "    for label in set(labels):\n",
    "        if label<0:\n",
    "            continue\n",
    "        clust = position[labels == label]\n",
    "\n",
    "        if clust_size < clust.shape[0]:\n",
    "            best_clust = np.mean(clust, axis = 0)\n",
    "            clust_size = clust.shape[0]\n",
    "            print(best_clust)\n",
    "            d = haversine(best_clust, home_pos)\n",
    "            \n",
    "    return best_clust, clust_size, d"
   ]
  },
  {
   "cell_type": "code",
   "execution_count": null,
   "metadata": {
    "collapsed": true
   },
   "outputs": [],
   "source": [
    "dbscan_params = {'leaf_size':5, 'eps': 0.02, 'n_jobs': 5, 'min_samples': 2}\n",
    "r = 0.02\n",
    "r2 = r**2\n",
    "\n",
    "def get_dbscan_score(df, dbscan_params, mcc_code = 5411, calc_dist = True):\n",
    "    score = 0\n",
    "    res = {}\n",
    "    \n",
    "    for user_id, data in df:\n",
    "        test_set = data.query('mcc == @mcc_code')\n",
    "        position = test_set.loc[:,['pos_address_lat', 'pos_address_lon']].dropna().as_matrix()\n",
    "\n",
    "        if calc_dist:\n",
    "            home_pos = test_set.loc[:,['home_add_lat','home_add_lon']].dropna().as_matrix()\n",
    "            if (len(home_pos) ==0):\n",
    "                continue\n",
    "            home_pos = np.unique(home_pos, axis=0)[0]\n",
    "            if len(np.unique(home_pos, axis=0)) >2:\n",
    "                raise ValueError('Wrong home position. Check it!!!')\n",
    "        else:\n",
    "            home_pos = np.array([90, 90])\n",
    "        \n",
    "        clust_size = -1\n",
    "        d = np.Inf\n",
    "        best_clust = np.array([90, 90])\n",
    "        \n",
    "        if len(position) >1:\n",
    "            dbs = DBSCAN(**dbscan_params)\n",
    "            dbs.fit(position)\n",
    "            labels = dbs.labels_\n",
    "\n",
    "            for label in set(labels):\n",
    "                if label<0:\n",
    "                    continue\n",
    "                clust = position[labels == label]\n",
    "                if clust_size < clust.shape[0]:\n",
    "                    best_clust = np.mean(clust, axis = 0)\n",
    "                    clust_size = clust.shape[0]\n",
    "                    if calc_dist:\n",
    "                        d = haversine(best_clust, home_pos)\n",
    "                    else:\n",
    "                        d = np.inf\n",
    "                    \n",
    "        res.update({user_id: [best_clust[0], best_clust[1], home_pos[0], home_pos[1], d, clust_size]})\n",
    "        \n",
    "    res_df = pd.DataFrame.from_dict(res,  orient='index')\n",
    "    res_df.columns = ['pr_home_lat', 'pr_home_lon',  'real_home_lat', 'real_home_lon', 'dist', 'clust_size']\n",
    "        \n",
    "    return res_df"
   ]
  },
  {
   "cell_type": "markdown",
   "metadata": {},
   "source": [
    "### Подбор гиперпараметров для DBSCAN"
   ]
  },
  {
   "cell_type": "code",
   "execution_count": null,
   "metadata": {
    "collapsed": true
   },
   "outputs": [],
   "source": [
    "eps_list = np.logspace(-2, -1, 5)\n",
    "min_samples_list = [5, 10, 15, 20, 25, 30]\n",
    "\n",
    "res = {}\n",
    "\n",
    "for min_samples in min_samples_list:\n",
    "    for eps in eps_list: \n",
    "        res_df = get_dbscan_score(customer_gr, {'leaf_size':5, 'eps': eps, 'min_samples': min_samples})\n",
    "        score = res_df.query('dist < @r2').shape[0]\n",
    "        print(f'{eps}, {min_samples}, {score}')\n",
    "        res.update({(eps, min_samples,):score})"
   ]
  },
  {
   "cell_type": "code",
   "execution_count": null,
   "metadata": {
    "collapsed": true
   },
   "outputs": [],
   "source": [
    "eps_list = np.logspace(-3, -1, 10)\n",
    "min_samples_list = [1, 2, 3, 4, 5]\n",
    "\n",
    "res = {}\n",
    "\n",
    "for min_samples in min_samples_list:\n",
    "    for eps in eps_list: \n",
    "        res_df = get_dbscan_score(customer_gr, {'leaf_size':5, 'eps': eps, 'min_samples': min_samples})\n",
    "        score = res_df.query('dist < @r2').shape[0]\n",
    "        print(f'{eps}, {min_samples}, {score}')\n",
    "        res.update({(eps, min_samples,):score})"
   ]
  },
  {
   "cell_type": "markdown",
   "metadata": {},
   "source": [
    "Наилучшие результаты получены при eps = 0.036, min_samples = 1"
   ]
  },
  {
   "cell_type": "code",
   "execution_count": 24,
   "metadata": {
    "collapsed": true
   },
   "outputs": [],
   "source": [
    "best_dbscan_params = {'eps': 0.036, 'min_samples': 1}"
   ]
  },
  {
   "cell_type": "code",
   "execution_count": 36,
   "metadata": {
    "collapsed": true
   },
   "outputs": [],
   "source": [
    "train_pr = get_dbscan_score(train_gr, best_dbscan_params)"
   ]
  },
  {
   "cell_type": "code",
   "execution_count": 37,
   "metadata": {},
   "outputs": [
    {
     "data": {
      "text/html": [
       "<div>\n",
       "<style scoped>\n",
       "    .dataframe tbody tr th:only-of-type {\n",
       "        vertical-align: middle;\n",
       "    }\n",
       "\n",
       "    .dataframe tbody tr th {\n",
       "        vertical-align: top;\n",
       "    }\n",
       "\n",
       "    .dataframe thead th {\n",
       "        text-align: right;\n",
       "    }\n",
       "</style>\n",
       "<table border=\"1\" class=\"dataframe\">\n",
       "  <thead>\n",
       "    <tr style=\"text-align: right;\">\n",
       "      <th></th>\n",
       "      <th>pr_home_lat</th>\n",
       "      <th>pr_home_lon</th>\n",
       "      <th>real_home_lat</th>\n",
       "      <th>real_home_lon</th>\n",
       "      <th>dist</th>\n",
       "      <th>clust_size</th>\n",
       "    </tr>\n",
       "  </thead>\n",
       "  <tbody>\n",
       "    <tr>\n",
       "      <th>0001f322716470bf9bfc1708f06f00fc</th>\n",
       "      <td>56.251347</td>\n",
       "      <td>43.446254</td>\n",
       "      <td>44.708</td>\n",
       "      <td>37.775</td>\n",
       "      <td>165.411979</td>\n",
       "      <td>7</td>\n",
       "    </tr>\n",
       "    <tr>\n",
       "      <th>0007297d86e14bd68bd87b1dbdefe302</th>\n",
       "      <td>55.800632</td>\n",
       "      <td>37.400692</td>\n",
       "      <td>55.799</td>\n",
       "      <td>37.388</td>\n",
       "      <td>0.000164</td>\n",
       "      <td>40</td>\n",
       "    </tr>\n",
       "    <tr>\n",
       "      <th>000b709c6c6fb1e8efcfd95e57c2a9de</th>\n",
       "      <td>55.357739</td>\n",
       "      <td>86.075208</td>\n",
       "      <td>54.994</td>\n",
       "      <td>82.864</td>\n",
       "      <td>10.444162</td>\n",
       "      <td>2</td>\n",
       "    </tr>\n",
       "    <tr>\n",
       "      <th>0027a7618d97cc9fbda55fac457eaeb7</th>\n",
       "      <td>55.636283</td>\n",
       "      <td>37.218540</td>\n",
       "      <td>55.742</td>\n",
       "      <td>37.575</td>\n",
       "      <td>0.138240</td>\n",
       "      <td>5</td>\n",
       "    </tr>\n",
       "    <tr>\n",
       "      <th>002b9f6e118c54f1292e03d1a04d516e</th>\n",
       "      <td>55.804936</td>\n",
       "      <td>37.501629</td>\n",
       "      <td>55.693</td>\n",
       "      <td>37.594</td>\n",
       "      <td>0.021062</td>\n",
       "      <td>3</td>\n",
       "    </tr>\n",
       "  </tbody>\n",
       "</table>\n",
       "</div>"
      ],
      "text/plain": [
       "                                  pr_home_lat  pr_home_lon  real_home_lat  \\\n",
       "0001f322716470bf9bfc1708f06f00fc    56.251347    43.446254         44.708   \n",
       "0007297d86e14bd68bd87b1dbdefe302    55.800632    37.400692         55.799   \n",
       "000b709c6c6fb1e8efcfd95e57c2a9de    55.357739    86.075208         54.994   \n",
       "0027a7618d97cc9fbda55fac457eaeb7    55.636283    37.218540         55.742   \n",
       "002b9f6e118c54f1292e03d1a04d516e    55.804936    37.501629         55.693   \n",
       "\n",
       "                                  real_home_lon        dist  clust_size  \n",
       "0001f322716470bf9bfc1708f06f00fc         37.775  165.411979           7  \n",
       "0007297d86e14bd68bd87b1dbdefe302         37.388    0.000164          40  \n",
       "000b709c6c6fb1e8efcfd95e57c2a9de         82.864   10.444162           2  \n",
       "0027a7618d97cc9fbda55fac457eaeb7         37.575    0.138240           5  \n",
       "002b9f6e118c54f1292e03d1a04d516e         37.594    0.021062           3  "
      ]
     },
     "execution_count": 37,
     "metadata": {},
     "output_type": "execute_result"
    }
   ],
   "source": [
    "train_pr.head()"
   ]
  },
  {
   "cell_type": "markdown",
   "metadata": {},
   "source": [
    "Теперь оценим реальный скор, который я могу выбить"
   ]
  },
  {
   "cell_type": "code",
   "execution_count": 38,
   "metadata": {},
   "outputs": [
    {
     "data": {
      "text/plain": [
       "0.198006576243321"
      ]
     },
     "execution_count": 38,
     "metadata": {},
     "output_type": "execute_result"
    }
   ],
   "source": [
    "0.5* train_pr.query('dist <= @r2').shape[0]/train_pr.shape[0]"
   ]
  },
  {
   "cell_type": "markdown",
   "metadata": {},
   "source": [
    "На борде скор 0.206375"
   ]
  },
  {
   "cell_type": "code",
   "execution_count": 39,
   "metadata": {},
   "outputs": [
    {
     "data": {
      "text/html": [
       "<div>\n",
       "<style scoped>\n",
       "    .dataframe tbody tr th:only-of-type {\n",
       "        vertical-align: middle;\n",
       "    }\n",
       "\n",
       "    .dataframe tbody tr th {\n",
       "        vertical-align: top;\n",
       "    }\n",
       "\n",
       "    .dataframe thead th {\n",
       "        text-align: right;\n",
       "    }\n",
       "</style>\n",
       "<table border=\"1\" class=\"dataframe\">\n",
       "  <thead>\n",
       "    <tr style=\"text-align: right;\">\n",
       "      <th></th>\n",
       "      <th>pr_home_lat</th>\n",
       "      <th>pr_home_lon</th>\n",
       "      <th>real_home_lat</th>\n",
       "      <th>real_home_lon</th>\n",
       "      <th>dist</th>\n",
       "      <th>clust_size</th>\n",
       "    </tr>\n",
       "  </thead>\n",
       "  <tbody>\n",
       "    <tr>\n",
       "      <th>00021683ccb416637fe9a4cd35e4606e</th>\n",
       "      <td>55.038795</td>\n",
       "      <td>82.977850</td>\n",
       "      <td>90</td>\n",
       "      <td>90</td>\n",
       "      <td>inf</td>\n",
       "      <td>20</td>\n",
       "    </tr>\n",
       "    <tr>\n",
       "      <th>0002d0f8a642272b41c292c12ab6e602</th>\n",
       "      <td>53.199818</td>\n",
       "      <td>50.173374</td>\n",
       "      <td>90</td>\n",
       "      <td>90</td>\n",
       "      <td>inf</td>\n",
       "      <td>21</td>\n",
       "    </tr>\n",
       "    <tr>\n",
       "      <th>0004d182d9fede3ba2534b2d5e5ad27e</th>\n",
       "      <td>43.576710</td>\n",
       "      <td>39.733473</td>\n",
       "      <td>90</td>\n",
       "      <td>90</td>\n",
       "      <td>inf</td>\n",
       "      <td>17</td>\n",
       "    </tr>\n",
       "    <tr>\n",
       "      <th>0008c2445518c9392cb356c5c3db3392</th>\n",
       "      <td>51.533332</td>\n",
       "      <td>46.023607</td>\n",
       "      <td>90</td>\n",
       "      <td>90</td>\n",
       "      <td>inf</td>\n",
       "      <td>2</td>\n",
       "    </tr>\n",
       "    <tr>\n",
       "      <th>000b373cc4969c0be8e0933c08da67e1</th>\n",
       "      <td>56.236275</td>\n",
       "      <td>43.460448</td>\n",
       "      <td>90</td>\n",
       "      <td>90</td>\n",
       "      <td>inf</td>\n",
       "      <td>26</td>\n",
       "    </tr>\n",
       "  </tbody>\n",
       "</table>\n",
       "</div>"
      ],
      "text/plain": [
       "                                  pr_home_lat  pr_home_lon  real_home_lat  \\\n",
       "00021683ccb416637fe9a4cd35e4606e    55.038795    82.977850             90   \n",
       "0002d0f8a642272b41c292c12ab6e602    53.199818    50.173374             90   \n",
       "0004d182d9fede3ba2534b2d5e5ad27e    43.576710    39.733473             90   \n",
       "0008c2445518c9392cb356c5c3db3392    51.533332    46.023607             90   \n",
       "000b373cc4969c0be8e0933c08da67e1    56.236275    43.460448             90   \n",
       "\n",
       "                                  real_home_lon  dist  clust_size  \n",
       "00021683ccb416637fe9a4cd35e4606e             90   inf          20  \n",
       "0002d0f8a642272b41c292c12ab6e602             90   inf          21  \n",
       "0004d182d9fede3ba2534b2d5e5ad27e             90   inf          17  \n",
       "0008c2445518c9392cb356c5c3db3392             90   inf           2  \n",
       "000b373cc4969c0be8e0933c08da67e1             90   inf          26  "
      ]
     },
     "execution_count": 39,
     "metadata": {},
     "output_type": "execute_result"
    }
   ],
   "source": [
    "test_pr = get_dbscan_score(test_gr, best_dbscan_params, calc_dist= False)\n",
    "test_pr.head()"
   ]
  },
  {
   "cell_type": "code",
   "execution_count": 33,
   "metadata": {},
   "outputs": [
    {
     "data": {
      "text/html": [
       "<div>\n",
       "<style scoped>\n",
       "    .dataframe tbody tr th:only-of-type {\n",
       "        vertical-align: middle;\n",
       "    }\n",
       "\n",
       "    .dataframe tbody tr th {\n",
       "        vertical-align: top;\n",
       "    }\n",
       "\n",
       "    .dataframe thead th {\n",
       "        text-align: right;\n",
       "    }\n",
       "</style>\n",
       "<table border=\"1\" class=\"dataframe\">\n",
       "  <thead>\n",
       "    <tr style=\"text-align: right;\">\n",
       "      <th></th>\n",
       "      <th>home_post_lat</th>\n",
       "      <th>home_post_lon</th>\n",
       "      <th>best_post_lat</th>\n",
       "      <th>best_post_lon</th>\n",
       "    </tr>\n",
       "  </thead>\n",
       "  <tbody>\n",
       "    <tr>\n",
       "      <th>00021683ccb416637fe9a4cd35e4606e</th>\n",
       "      <td>90</td>\n",
       "      <td>90</td>\n",
       "      <td>55.038795</td>\n",
       "      <td>82.977850</td>\n",
       "    </tr>\n",
       "    <tr>\n",
       "      <th>0002d0f8a642272b41c292c12ab6e602</th>\n",
       "      <td>90</td>\n",
       "      <td>90</td>\n",
       "      <td>53.199818</td>\n",
       "      <td>50.173374</td>\n",
       "    </tr>\n",
       "    <tr>\n",
       "      <th>0004d182d9fede3ba2534b2d5e5ad27e</th>\n",
       "      <td>90</td>\n",
       "      <td>90</td>\n",
       "      <td>43.576710</td>\n",
       "      <td>39.733473</td>\n",
       "    </tr>\n",
       "    <tr>\n",
       "      <th>0008c2445518c9392cb356c5c3db3392</th>\n",
       "      <td>90</td>\n",
       "      <td>90</td>\n",
       "      <td>51.533332</td>\n",
       "      <td>46.023607</td>\n",
       "    </tr>\n",
       "    <tr>\n",
       "      <th>000b373cc4969c0be8e0933c08da67e1</th>\n",
       "      <td>90</td>\n",
       "      <td>90</td>\n",
       "      <td>56.236275</td>\n",
       "      <td>43.460448</td>\n",
       "    </tr>\n",
       "  </tbody>\n",
       "</table>\n",
       "</div>"
      ],
      "text/plain": [
       "                                  home_post_lat  home_post_lon  best_post_lat  \\\n",
       "00021683ccb416637fe9a4cd35e4606e             90             90      55.038795   \n",
       "0002d0f8a642272b41c292c12ab6e602             90             90      53.199818   \n",
       "0004d182d9fede3ba2534b2d5e5ad27e             90             90      43.576710   \n",
       "0008c2445518c9392cb356c5c3db3392             90             90      51.533332   \n",
       "000b373cc4969c0be8e0933c08da67e1             90             90      56.236275   \n",
       "\n",
       "                                  best_post_lon  \n",
       "00021683ccb416637fe9a4cd35e4606e      82.977850  \n",
       "0002d0f8a642272b41c292c12ab6e602      50.173374  \n",
       "0004d182d9fede3ba2534b2d5e5ad27e      39.733473  \n",
       "0008c2445518c9392cb356c5c3db3392      46.023607  \n",
       "000b373cc4969c0be8e0933c08da67e1      43.460448  "
      ]
     },
     "execution_count": 33,
     "metadata": {},
     "output_type": "execute_result"
    }
   ],
   "source": [
    "submit = test_pr.loc[:,['home_post_lat', 'home_post_lon', 'best_post_lat',  'best_post_lon']]\n",
    "submit.head()"
   ]
  },
  {
   "cell_type": "code",
   "execution_count": null,
   "metadata": {
    "collapsed": true
   },
   "outputs": [],
   "source": [
    "submit.columns = ['best_post_lat', 'best_post_lon',  'home_post_lat', 'home_post_lon', 'dist', 'clust_size']"
   ]
  },
  {
   "cell_type": "code",
   "execution_count": null,
   "metadata": {
    "collapsed": true
   },
   "outputs": [],
   "source": [
    "submit.to_csv('1.csv')"
   ]
  }
 ],
 "metadata": {
  "kernelspec": {
   "display_name": "raiffaizen",
   "language": "python",
   "name": "raiffaizen"
  },
  "language_info": {
   "codemirror_mode": {
    "name": "ipython",
    "version": 3
   },
   "file_extension": ".py",
   "mimetype": "text/x-python",
   "name": "python",
   "nbconvert_exporter": "python",
   "pygments_lexer": "ipython3",
   "version": "3.6.3"
  }
 },
 "nbformat": 4,
 "nbformat_minor": 2
}
