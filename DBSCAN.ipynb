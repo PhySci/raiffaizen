{
 "cells": [
  {
   "cell_type": "code",
   "execution_count": 282,
   "metadata": {},
   "outputs": [],
   "source": [
    "import pandas as pd\n",
    "import folium\n",
    "import matplotlib.pyplot as plt\n",
    "%matplotlib inline\n",
    "\n",
    "import json\n",
    "import numpy as np\n",
    "\n",
    "from collections import Counter\n",
    "from folium.plugins import MarkerCluster\n",
    "from sklearn.cluster import DBSCAN\n",
    "\n",
    "from utils import *\n",
    "from FedRank import FedRank"
   ]
  },
  {
   "cell_type": "code",
   "execution_count": 283,
   "metadata": {},
   "outputs": [],
   "source": [
    "from sklearn.metrics import hinge_loss"
   ]
  },
  {
   "cell_type": "code",
   "execution_count": 284,
   "metadata": {},
   "outputs": [
    {
     "name": "stdout",
     "output_type": "stream",
     "text": [
      "The autoreload extension is already loaded. To reload it, use:\n",
      "  %reload_ext autoreload\n"
     ]
    }
   ],
   "source": [
    "# develop mode\n",
    "%load_ext autoreload\n",
    "%autoreload 2"
   ]
  },
  {
   "cell_type": "code",
   "execution_count": 285,
   "metadata": {},
   "outputs": [],
   "source": [
    "# Moscow coordinates\n",
    "MOW = [55.75222, 37.61556]\n",
    "\n",
    "r = 0.02\n",
    "r2 = r**2"
   ]
  },
  {
   "cell_type": "code",
   "execution_count": 286,
   "metadata": {},
   "outputs": [
    {
     "name": "stderr",
     "output_type": "stream",
     "text": [
      "/home/frodos/raifaizen/.env/lib/python3.5/site-packages/IPython/core/interactiveshell.py:2850: DtypeWarning: Columns (1,11) have mixed types. Specify dtype option on import or set low_memory=False.\n",
      "  if self.run_code(code, result):\n",
      "/home/frodos/raifaizen/.env/lib/python3.5/site-packages/IPython/core/interactiveshell.py:2850: DtypeWarning: Columns (1,8,9) have mixed types. Specify dtype option on import or set low_memory=False.\n",
      "  if self.run_code(code, result):\n"
     ]
    }
   ],
   "source": [
    "# load, clean and group train data\n",
    "train_df = clean_df('./data/train_set.csv')\n",
    "train_gr = train_df.groupby('customer_id')\n",
    "\n",
    "test_df = clean_df('./data/test_set.csv')\n",
    "test_gr = test_df.groupby('customer_id')"
   ]
  },
  {
   "cell_type": "markdown",
   "metadata": {},
   "source": [
    "### MCC\n",
    "Подгружаем MCC коды, вычисляем их частотность в тренировочных данных. Выбираем MMC, которые встречаются более 10 000 раз и сохраняем их в mcc_list."
   ]
  },
  {
   "cell_type": "code",
   "execution_count": 287,
   "metadata": {},
   "outputs": [],
   "source": [
    "# load mcc codes\n",
    "mcc_codes = pd.read_csv('./data/mcc_codes.csv', index_col='mcc')\n",
    "mcc_counts = train_df['mcc'].value_counts().to_frame(name = 'count')\n",
    "mcc_codes = mcc_counts.merge(mcc_codes, left_index=True, right_index=True)\n",
    "mcc_list = mcc_codes.query('count >10000').index.values"
   ]
  },
  {
   "cell_type": "code",
   "execution_count": 303,
   "metadata": {},
   "outputs": [],
   "source": [
    "best_dbscan_params = {'eps': 0.036, 'min_samples': 2}\n",
    "clusters = get_dbscan_clust(train_gr, best_dbscan_params, mcc_list=mcc_list)"
   ]
  },
  {
   "cell_type": "code",
   "execution_count": 304,
   "metadata": {},
   "outputs": [],
   "source": [
    "train_df = train_df.merge(clusters, left_index=True, right_index=True, how='inner')\n",
    "train_df.clust_label.fillna(-2, inplace=True)\n",
    "t_gr = train_df.groupby(['customer_id','clust_label'])"
   ]
  },
  {
   "cell_type": "code",
   "execution_count": 305,
   "metadata": {},
   "outputs": [
    {
     "data": {
      "text/plain": [
       "(1074568, 20)"
      ]
     },
     "execution_count": 305,
     "metadata": {},
     "output_type": "execute_result"
    }
   ],
   "source": [
    "train_df.shape"
   ]
  },
  {
   "cell_type": "markdown",
   "metadata": {},
   "source": [
    "### Создаём допольнительные фичи\n",
    "Проходимся по всем кластерам всех пользователей и считаем удельный вклад каждого MCC по количеству операций.\n",
    "\n",
    "На выходе получаем таблицу, в которой колонки соответсвуют MCC"
   ]
  },
  {
   "cell_type": "code",
   "execution_count": 306,
   "metadata": {},
   "outputs": [],
   "source": [
    "### Create features with relative contributions of each MCC code for each cluster of each customer\n",
    "def get_mcc_features(gr):\n",
    "    df = gr.mcc.aggregate('value_counts', **{'normalize':True}).unstack(level=-1).fillna(0)\n",
    "    df.columns = [\"mcc_%s\" % (n1) for n1 in df.columns.values]\n",
    "    return df\n",
    "\n",
    "\n",
    "def get_amount_features(gr):\n",
    "    agg_dict = {\n",
    "    'amount': [np.mean, np.max, np.min, 'count', 'std', 'sum']\n",
    "    }\n",
    "    c = gr.aggregate(agg_dict)\n",
    "    newidx = []\n",
    "    for (n1,n2) in c.columns.ravel():\n",
    "        newidx.append(\"%s_%s\" % (n1,n2))\n",
    "    c.columns=newidx\n",
    "    \n",
    "    rel_features = c.loc[:,['amount_sum','amount_count']].groupby(level=0).transform(lambda x: x/x.sum())\n",
    "    rel_features.columns = [x+'_rel' for x in rel_features.columns]\n",
    "    \n",
    "    return c.merge(rel_features, left_index=True, right_index=True)\n",
    "\n",
    "def get_clust_pos(gr):\n",
    "    agg_dict = {\n",
    "        'pos_address_lat': np.mean,\n",
    "        'pos_address_lon': np.mean\n",
    "        }\n",
    "    return gr.aggregate(agg_dict)"
   ]
  },
  {
   "cell_type": "code",
   "execution_count": 307,
   "metadata": {},
   "outputs": [],
   "source": [
    "train_features = get_amount_features(t_gr).merge(get_mcc_features(t_gr), \n",
    "                                                        left_index=True, right_index=True)"
   ]
  },
  {
   "cell_type": "code",
   "execution_count": 308,
   "metadata": {},
   "outputs": [
    {
     "data": {
      "text/html": [
       "<div>\n",
       "<style scoped>\n",
       "    .dataframe tbody tr th:only-of-type {\n",
       "        vertical-align: middle;\n",
       "    }\n",
       "\n",
       "    .dataframe tbody tr th {\n",
       "        vertical-align: top;\n",
       "    }\n",
       "\n",
       "    .dataframe thead th {\n",
       "        text-align: right;\n",
       "    }\n",
       "</style>\n",
       "<table border=\"1\" class=\"dataframe\">\n",
       "  <thead>\n",
       "    <tr style=\"text-align: right;\">\n",
       "      <th></th>\n",
       "      <th></th>\n",
       "      <th>home_add_lat</th>\n",
       "      <th>home_add_lon</th>\n",
       "      <th>work_add_lat</th>\n",
       "      <th>work_add_lon</th>\n",
       "      <th>pos_address_lat</th>\n",
       "      <th>pos_address_lon</th>\n",
       "    </tr>\n",
       "    <tr>\n",
       "      <th>customer_id</th>\n",
       "      <th>clust_label</th>\n",
       "      <th></th>\n",
       "      <th></th>\n",
       "      <th></th>\n",
       "      <th></th>\n",
       "      <th></th>\n",
       "      <th></th>\n",
       "    </tr>\n",
       "  </thead>\n",
       "  <tbody>\n",
       "    <tr>\n",
       "      <th rowspan=\"3\" valign=\"top\">0001f322716470bf9bfc1708f06f00fc</th>\n",
       "      <th>0</th>\n",
       "      <td>44.708</td>\n",
       "      <td>37.775</td>\n",
       "      <td>44.735</td>\n",
       "      <td>37.798</td>\n",
       "      <td>44.728065</td>\n",
       "      <td>37.794945</td>\n",
       "    </tr>\n",
       "    <tr>\n",
       "      <th>1</th>\n",
       "      <td>44.708</td>\n",
       "      <td>37.775</td>\n",
       "      <td>44.735</td>\n",
       "      <td>37.798</td>\n",
       "      <td>56.251347</td>\n",
       "      <td>43.446254</td>\n",
       "    </tr>\n",
       "    <tr>\n",
       "      <th>2</th>\n",
       "      <td>44.708</td>\n",
       "      <td>37.775</td>\n",
       "      <td>44.735</td>\n",
       "      <td>37.798</td>\n",
       "      <td>0.000000</td>\n",
       "      <td>0.000000</td>\n",
       "    </tr>\n",
       "    <tr>\n",
       "      <th rowspan=\"7\" valign=\"top\">0007297d86e14bd68bd87b1dbdefe302</th>\n",
       "      <th>-1</th>\n",
       "      <td>55.799</td>\n",
       "      <td>37.388</td>\n",
       "      <td>NaN</td>\n",
       "      <td>NaN</td>\n",
       "      <td>45.102668</td>\n",
       "      <td>38.980771</td>\n",
       "    </tr>\n",
       "    <tr>\n",
       "      <th>0</th>\n",
       "      <td>55.799</td>\n",
       "      <td>37.388</td>\n",
       "      <td>NaN</td>\n",
       "      <td>NaN</td>\n",
       "      <td>55.809137</td>\n",
       "      <td>37.462241</td>\n",
       "    </tr>\n",
       "    <tr>\n",
       "      <th>1</th>\n",
       "      <td>55.799</td>\n",
       "      <td>37.388</td>\n",
       "      <td>NaN</td>\n",
       "      <td>NaN</td>\n",
       "      <td>55.801699</td>\n",
       "      <td>37.403000</td>\n",
       "    </tr>\n",
       "    <tr>\n",
       "      <th>2</th>\n",
       "      <td>55.799</td>\n",
       "      <td>37.388</td>\n",
       "      <td>NaN</td>\n",
       "      <td>NaN</td>\n",
       "      <td>55.822604</td>\n",
       "      <td>37.524894</td>\n",
       "    </tr>\n",
       "    <tr>\n",
       "      <th>3</th>\n",
       "      <td>55.799</td>\n",
       "      <td>37.388</td>\n",
       "      <td>NaN</td>\n",
       "      <td>NaN</td>\n",
       "      <td>55.675554</td>\n",
       "      <td>37.505458</td>\n",
       "    </tr>\n",
       "    <tr>\n",
       "      <th>4</th>\n",
       "      <td>55.799</td>\n",
       "      <td>37.388</td>\n",
       "      <td>NaN</td>\n",
       "      <td>NaN</td>\n",
       "      <td>55.748555</td>\n",
       "      <td>37.543497</td>\n",
       "    </tr>\n",
       "    <tr>\n",
       "      <th>5</th>\n",
       "      <td>55.799</td>\n",
       "      <td>37.388</td>\n",
       "      <td>NaN</td>\n",
       "      <td>NaN</td>\n",
       "      <td>55.746633</td>\n",
       "      <td>37.875885</td>\n",
       "    </tr>\n",
       "  </tbody>\n",
       "</table>\n",
       "</div>"
      ],
      "text/plain": [
       "                                              home_add_lat  home_add_lon  \\\n",
       "customer_id                      clust_label                               \n",
       "0001f322716470bf9bfc1708f06f00fc  0                 44.708        37.775   \n",
       "                                  1                 44.708        37.775   \n",
       "                                  2                 44.708        37.775   \n",
       "0007297d86e14bd68bd87b1dbdefe302 -1                 55.799        37.388   \n",
       "                                  0                 55.799        37.388   \n",
       "                                  1                 55.799        37.388   \n",
       "                                  2                 55.799        37.388   \n",
       "                                  3                 55.799        37.388   \n",
       "                                  4                 55.799        37.388   \n",
       "                                  5                 55.799        37.388   \n",
       "\n",
       "                                              work_add_lat  work_add_lon  \\\n",
       "customer_id                      clust_label                               \n",
       "0001f322716470bf9bfc1708f06f00fc  0                 44.735        37.798   \n",
       "                                  1                 44.735        37.798   \n",
       "                                  2                 44.735        37.798   \n",
       "0007297d86e14bd68bd87b1dbdefe302 -1                    NaN           NaN   \n",
       "                                  0                    NaN           NaN   \n",
       "                                  1                    NaN           NaN   \n",
       "                                  2                    NaN           NaN   \n",
       "                                  3                    NaN           NaN   \n",
       "                                  4                    NaN           NaN   \n",
       "                                  5                    NaN           NaN   \n",
       "\n",
       "                                              pos_address_lat  pos_address_lon  \n",
       "customer_id                      clust_label                                    \n",
       "0001f322716470bf9bfc1708f06f00fc  0                 44.728065        37.794945  \n",
       "                                  1                 56.251347        43.446254  \n",
       "                                  2                  0.000000         0.000000  \n",
       "0007297d86e14bd68bd87b1dbdefe302 -1                 45.102668        38.980771  \n",
       "                                  0                 55.809137        37.462241  \n",
       "                                  1                 55.801699        37.403000  \n",
       "                                  2                 55.822604        37.524894  \n",
       "                                  3                 55.675554        37.505458  \n",
       "                                  4                 55.748555        37.543497  \n",
       "                                  5                 55.746633        37.875885  "
      ]
     },
     "execution_count": 308,
     "metadata": {},
     "output_type": "execute_result"
    }
   ],
   "source": [
    "dist_dict = {\n",
    "    'home_add_lat': 'median',\n",
    "    'home_add_lon': 'median',\n",
    "    'work_add_lat': 'median',\n",
    "    'work_add_lon': 'median'\n",
    "    \n",
    "}\n",
    "\n",
    "train_hw_pos = train_df.groupby(['customer_id','clust_label']).aggregate(dist_dict)\n",
    "train_hw_pos = train_hw_pos.merge(get_clust_pos(t_gr), left_index=True, right_index=True)\n",
    "train_hw_pos.head(10)"
   ]
  },
  {
   "cell_type": "code",
   "execution_count": 309,
   "metadata": {},
   "outputs": [],
   "source": [
    "target_dist = get_target_distances(train_hw_pos)\n",
    "target_rank = target_dist.fillna(999).groupby(level=0).transform(lambda x: (x.rank()==1).astype(int))"
   ]
  },
  {
   "cell_type": "code",
   "execution_count": 312,
   "metadata": {},
   "outputs": [
    {
     "data": {
      "text/html": [
       "<div>\n",
       "<style scoped>\n",
       "    .dataframe tbody tr th:only-of-type {\n",
       "        vertical-align: middle;\n",
       "    }\n",
       "\n",
       "    .dataframe tbody tr th {\n",
       "        vertical-align: top;\n",
       "    }\n",
       "\n",
       "    .dataframe thead th {\n",
       "        text-align: right;\n",
       "    }\n",
       "</style>\n",
       "<table border=\"1\" class=\"dataframe\">\n",
       "  <thead>\n",
       "    <tr style=\"text-align: right;\">\n",
       "      <th></th>\n",
       "      <th></th>\n",
       "      <th>dist_home</th>\n",
       "      <th>dist_work</th>\n",
       "    </tr>\n",
       "    <tr>\n",
       "      <th>customer_id</th>\n",
       "      <th>clust_label</th>\n",
       "      <th></th>\n",
       "      <th></th>\n",
       "    </tr>\n",
       "  </thead>\n",
       "  <tbody>\n",
       "    <tr>\n",
       "      <th rowspan=\"3\" valign=\"top\">0001f322716470bf9bfc1708f06f00fc</th>\n",
       "      <th>0</th>\n",
       "      <td>1</td>\n",
       "      <td>1</td>\n",
       "    </tr>\n",
       "    <tr>\n",
       "      <th>1</th>\n",
       "      <td>0</td>\n",
       "      <td>0</td>\n",
       "    </tr>\n",
       "    <tr>\n",
       "      <th>2</th>\n",
       "      <td>0</td>\n",
       "      <td>0</td>\n",
       "    </tr>\n",
       "    <tr>\n",
       "      <th rowspan=\"7\" valign=\"top\">0007297d86e14bd68bd87b1dbdefe302</th>\n",
       "      <th>-1</th>\n",
       "      <td>0</td>\n",
       "      <td>0</td>\n",
       "    </tr>\n",
       "    <tr>\n",
       "      <th>0</th>\n",
       "      <td>0</td>\n",
       "      <td>0</td>\n",
       "    </tr>\n",
       "    <tr>\n",
       "      <th>1</th>\n",
       "      <td>1</td>\n",
       "      <td>0</td>\n",
       "    </tr>\n",
       "    <tr>\n",
       "      <th>2</th>\n",
       "      <td>0</td>\n",
       "      <td>0</td>\n",
       "    </tr>\n",
       "    <tr>\n",
       "      <th>3</th>\n",
       "      <td>0</td>\n",
       "      <td>0</td>\n",
       "    </tr>\n",
       "    <tr>\n",
       "      <th>4</th>\n",
       "      <td>0</td>\n",
       "      <td>0</td>\n",
       "    </tr>\n",
       "    <tr>\n",
       "      <th>5</th>\n",
       "      <td>0</td>\n",
       "      <td>0</td>\n",
       "    </tr>\n",
       "  </tbody>\n",
       "</table>\n",
       "</div>"
      ],
      "text/plain": [
       "                                              dist_home  dist_work\n",
       "customer_id                      clust_label                      \n",
       "0001f322716470bf9bfc1708f06f00fc  0                   1          1\n",
       "                                  1                   0          0\n",
       "                                  2                   0          0\n",
       "0007297d86e14bd68bd87b1dbdefe302 -1                   0          0\n",
       "                                  0                   0          0\n",
       "                                  1                   1          0\n",
       "                                  2                   0          0\n",
       "                                  3                   0          0\n",
       "                                  4                   0          0\n",
       "                                  5                   0          0"
      ]
     },
     "execution_count": 312,
     "metadata": {},
     "output_type": "execute_result"
    }
   ],
   "source": [
    "target_rank.head(10)"
   ]
  },
  {
   "cell_type": "code",
   "execution_count": 313,
   "metadata": {},
   "outputs": [],
   "source": [
    "def softmax(x):\n",
    "    e_x = np.exp(x - np.max(x))\n",
    "    return e_x / e_x.sum(axis=0)"
   ]
  },
  {
   "cell_type": "code",
   "execution_count": 340,
   "metadata": {},
   "outputs": [],
   "source": [
    "y_pr = pd.DataFrame(index= train_features.index, columns=['y'])\n",
    "target_rank = target_rank.dist_home.to_frame()\n",
    "coeffs = np.random.rand(train_features.shape[1], 1)\n",
    "\n",
    "def step(df, coeffs):\n",
    "    y_pr.y  = np.matmul(df,coeffs)\n",
    "    y2 = y_pr.fillna(0).groupby(level=0).transform(lambda x: softmax(x)).\\\n",
    "           merge(target_rank, left_index=True, right_index=True)\n",
    "    y2 = y2.assign(p = 1 + y2.y - y2.dist_home).assign(inv = np.abs(y2.dist_home-1))\n",
    "    y2 = y2.assign(p2 = y2.p*y2.inv)\n",
    "    gr4 = y2.p2.groupby(level = 0)\n",
    "    y4 = gr4.aggregate('sum')\n",
    "    y5 = gr4.aggregate('count')\n",
    "    score = (y4*y5/(y5-1)).sum()\n",
    "    return score"
   ]
  },
  {
   "cell_type": "code",
   "execution_count": 356,
   "metadata": {},
   "outputs": [
    {
     "name": "stdout",
     "output_type": "stream",
     "text": [
      "66881.38045330271\n"
     ]
    },
    {
     "ename": "TypeError",
     "evalue": "'float' object cannot be interpreted as an integer",
     "output_type": "error",
     "traceback": [
      "\u001b[0;31m---------------------------------------------------------------------------\u001b[0m",
      "\u001b[0;31mTypeError\u001b[0m                                 Traceback (most recent call last)",
      "\u001b[0;32m<ipython-input-356-ffb6c150cb6f>\u001b[0m in \u001b[0;36m<module>\u001b[0;34m()\u001b[0m\n\u001b[1;32m     11\u001b[0m \u001b[0;34m\u001b[0m\u001b[0m\n\u001b[1;32m     12\u001b[0m \u001b[0mscore_list\u001b[0m \u001b[0;34m=\u001b[0m \u001b[0;34m[\u001b[0m\u001b[0;34m]\u001b[0m\u001b[0;34m\u001b[0m\u001b[0m\n\u001b[0;32m---> 13\u001b[0;31m \u001b[0;32mfor\u001b[0m \u001b[0mi\u001b[0m \u001b[0;32min\u001b[0m \u001b[0mrange\u001b[0m\u001b[0;34m(\u001b[0m\u001b[0;36m1e5\u001b[0m\u001b[0;34m)\u001b[0m\u001b[0;34m:\u001b[0m\u001b[0;34m\u001b[0m\u001b[0m\n\u001b[0m\u001b[1;32m     14\u001b[0m     \u001b[0;31m# choose random feature and make a step\u001b[0m\u001b[0;34m\u001b[0m\u001b[0;34m\u001b[0m\u001b[0m\n\u001b[1;32m     15\u001b[0m     \u001b[0mfeature_id\u001b[0m \u001b[0;34m=\u001b[0m \u001b[0mnp\u001b[0m\u001b[0;34m.\u001b[0m\u001b[0mrandom\u001b[0m\u001b[0;34m.\u001b[0m\u001b[0mrandint\u001b[0m\u001b[0;34m(\u001b[0m\u001b[0mfeat_num\u001b[0m\u001b[0;34m)\u001b[0m\u001b[0;34m\u001b[0m\u001b[0m\n",
      "\u001b[0;31mTypeError\u001b[0m: 'float' object cannot be interpreted as an integer"
     ]
    }
   ],
   "source": [
    "# params\n",
    "eps = 0.01\n",
    "learning_rate = 0.01\n",
    "#Init coeffs\n",
    "\n",
    "\n",
    "feat_num = train_features.shape[1]\n",
    "#coeffs = 10*np.random.rand(feat_num, 1)\n",
    "s0 = step(train_features, coeffs)\n",
    "print(s0)\n",
    "\n",
    "score_list = []\n",
    "for i in range(1e5):\n",
    "    # choose random feature and make a step\n",
    "    feature_id = np.random.randint(feat_num)\n",
    "    temp_coeffs = coeffs\n",
    "    temp_coeffs[feature_id] += eps\n",
    "    \n",
    "    # calculate score and gradien\n",
    "    s_new = step(train_features, temp_coeffs)\n",
    "    \n",
    "    coeffs[feature_id] += learning_rate*(s_new-s0)\n",
    "    \n",
    "    s0 = step(train_features, coeffs)\n",
    "    print(s0)\n",
    "    score_list.append(s0)\n",
    "    \n",
    "    if (i % 50 ==0):\n",
    "        np.save('coeffs.npy',coeffs)\n",
    "        print('Save coeffs to file')"
   ]
  },
  {
   "cell_type": "markdown",
   "metadata": {},
   "source": [
    "### Обучение и тестирование"
   ]
  },
  {
   "cell_type": "code",
   "execution_count": null,
   "metadata": {
    "collapsed": true
   },
   "outputs": [],
   "source": [
    "from sklearn.model_selection import train_test_split"
   ]
  },
  {
   "cell_type": "code",
   "execution_count": null,
   "metadata": {
    "collapsed": true
   },
   "outputs": [],
   "source": [
    "X_train, X_test, y_train, y_test = train_test_split(X, y, test_size=0.33, random_state=42)"
   ]
  },
  {
   "cell_type": "markdown",
   "metadata": {},
   "source": [
    "### Подбор гиперпараметров для DBSCAN"
   ]
  },
  {
   "cell_type": "code",
   "execution_count": null,
   "metadata": {
    "collapsed": true
   },
   "outputs": [],
   "source": [
    "eps_list = np.logspace(-2, -1, 5)\n",
    "min_samples_list = [5, 10, 15, 20, 25, 30]\n",
    "\n",
    "res = {}\n",
    "\n",
    "for min_samples in min_samples_list:\n",
    "    for eps in eps_list: \n",
    "        res_df = get_dbscan_score(customer_gr, {'leaf_size':5, 'eps': eps, 'min_samples': min_samples})\n",
    "        score = res_df.query('dist < @r2').shape[0]\n",
    "        print(f'{eps}, {min_samples}, {score}')\n",
    "        res.update({(eps, min_samples,):score})"
   ]
  },
  {
   "cell_type": "code",
   "execution_count": null,
   "metadata": {
    "collapsed": true
   },
   "outputs": [],
   "source": [
    "eps_list = np.logspace(-3, -1, 10)\n",
    "min_samples_list = [1, 2, 3, 4, 5]\n",
    "\n",
    "res = {}\n",
    "\n",
    "for min_samples in min_samples_list:\n",
    "    for eps in eps_list: \n",
    "        res_df = get_dbscan_score(customer_gr, {'leaf_size':5, 'eps': eps, 'min_samples': min_samples})\n",
    "        score = res_df.query('dist < @r2').shape[0]\n",
    "        print(f'{eps}, {min_samples}, {score}')\n",
    "        res.update({(eps, min_samples,):score})"
   ]
  },
  {
   "cell_type": "markdown",
   "metadata": {},
   "source": [
    "Наилучшие результаты получены при eps = 0.036, min_samples = 1"
   ]
  },
  {
   "cell_type": "code",
   "execution_count": null,
   "metadata": {
    "collapsed": true
   },
   "outputs": [],
   "source": [
    "train_pr = get_dbscan_score(train_gr, best_dbscan_params)"
   ]
  },
  {
   "cell_type": "code",
   "execution_count": null,
   "metadata": {
    "collapsed": true
   },
   "outputs": [],
   "source": [
    "train_pr.head()"
   ]
  },
  {
   "cell_type": "code",
   "execution_count": null,
   "metadata": {
    "collapsed": true
   },
   "outputs": [],
   "source": [
    "train_pr.clust_amount.hist(bins = 100)\n",
    "plt.xlim([0, 20])"
   ]
  },
  {
   "cell_type": "markdown",
   "metadata": {},
   "source": [
    "Теперь оценим реальный скор, который я могу выбить"
   ]
  },
  {
   "cell_type": "code",
   "execution_count": null,
   "metadata": {
    "collapsed": true
   },
   "outputs": [],
   "source": [
    "0.5* train_pr.query('dist <= @r2').shape[0]/train_pr.shape[0]"
   ]
  },
  {
   "cell_type": "markdown",
   "metadata": {},
   "source": [
    "На борде скор 0.206375"
   ]
  },
  {
   "cell_type": "code",
   "execution_count": null,
   "metadata": {
    "collapsed": true
   },
   "outputs": [],
   "source": [
    "test_pr = get_dbscan_score(test_gr, best_dbscan_params, calc_dist= False)\n",
    "test_pr.head()"
   ]
  },
  {
   "cell_type": "code",
   "execution_count": null,
   "metadata": {
    "collapsed": true
   },
   "outputs": [],
   "source": [
    "submit = test_pr.loc[:,['home_post_lat', 'home_post_lon', 'best_post_lat',  'best_post_lon']]\n",
    "submit.head()"
   ]
  },
  {
   "cell_type": "code",
   "execution_count": null,
   "metadata": {
    "collapsed": true
   },
   "outputs": [],
   "source": [
    "submit.columns = ['best_post_lat', 'best_post_lon',  'home_post_lat', 'home_post_lon', 'dist', 'clust_size']"
   ]
  },
  {
   "cell_type": "code",
   "execution_count": null,
   "metadata": {
    "collapsed": true
   },
   "outputs": [],
   "source": [
    "submit.to_csv('1.csv')"
   ]
  },
  {
   "cell_type": "code",
   "execution_count": null,
   "metadata": {
    "collapsed": true
   },
   "outputs": [],
   "source": []
  },
  {
   "cell_type": "code",
   "execution_count": null,
   "metadata": {
    "collapsed": true
   },
   "outputs": [],
   "source": []
  },
  {
   "cell_type": "code",
   "execution_count": 201,
   "metadata": {},
   "outputs": [
    {
     "name": "stdout",
     "output_type": "stream",
     "text": [
      "(1062, 36)\n"
     ]
    }
   ],
   "source": [
    "import pandas as pd\n",
    "import numpy as np\n",
    "\n",
    "columns = ['col{}'.format(i) for i in range(36)]\n",
    "x = pd.DataFrame(np.random.random((1062, 36)), columns=columns)\n",
    "y = pd.DataFrame(np.random.random((36, 36)))\n",
    "\n",
    "print(np.dot(x, y).shape)\n",
    "# (1062, 36)"
   ]
  },
  {
   "cell_type": "code",
   "execution_count": 90,
   "metadata": {},
   "outputs": [
    {
     "data": {
      "text/plain": [
       "1.0"
      ]
     },
     "execution_count": 90,
     "metadata": {},
     "output_type": "execute_result"
    }
   ],
   "source": [
    "y_tr = [1, 0, 0]\n",
    "y_pr = [1, 0, 0]\n",
    "sz = len(y_pr)\n",
    "s = hinge_loss(y_tr, y_pr) * sz/(sz-1)\n",
    "s"
   ]
  },
  {
   "cell_type": "code",
   "execution_count": 74,
   "metadata": {},
   "outputs": [
    {
     "data": {
      "text/plain": [
       "1.0"
      ]
     },
     "execution_count": 74,
     "metadata": {},
     "output_type": "execute_result"
    }
   ],
   "source": [
    "sz = 4\n",
    "s * sz/(sz-1)"
   ]
  },
  {
   "cell_type": "code",
   "execution_count": 89,
   "metadata": {},
   "outputs": [
    {
     "data": {
      "text/plain": [
       "3"
      ]
     },
     "execution_count": 89,
     "metadata": {},
     "output_type": "execute_result"
    }
   ],
   "source": []
  },
  {
   "cell_type": "code",
   "execution_count": null,
   "metadata": {
    "collapsed": true
   },
   "outputs": [],
   "source": []
  }
 ],
 "metadata": {
  "kernelspec": {
   "display_name": "raif",
   "language": "python",
   "name": "raif"
  },
  "language_info": {
   "codemirror_mode": {
    "name": "ipython",
    "version": 3
   },
   "file_extension": ".py",
   "mimetype": "text/x-python",
   "name": "python",
   "nbconvert_exporter": "python",
   "pygments_lexer": "ipython3",
   "version": "3.5.2"
  }
 },
 "nbformat": 4,
 "nbformat_minor": 2
}
